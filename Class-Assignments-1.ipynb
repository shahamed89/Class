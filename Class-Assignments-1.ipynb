{
 "cells": [
  {
   "cell_type": "code",
   "execution_count": 9,
   "id": "1f53fc23-bbbb-4018-867d-8d5ea7dd6672",
   "metadata": {},
   "outputs": [],
   "source": [
    "class subfieldsInAI():\n",
    "    def subfields():\n",
    "        lists=[\"Machine Learning\",\"Neural Network\",\"Vision\",\"Robotics\",\"Speech Processing\",\"Neural Language Processing\"]\n",
    "        print(\"Sub-fields in AI are:\")\n",
    "        for x in lists:\n",
    "            print(x)        "
   ]
  },
  {
   "cell_type": "code",
   "execution_count": 10,
   "id": "37f15ce2-1a02-4ce9-ada0-def0e37976d1",
   "metadata": {},
   "outputs": [
    {
     "name": "stdout",
     "output_type": "stream",
     "text": [
      "Sub-fields in AI are:\n",
      "Machine Learning\n",
      "Neural Network\n",
      "Vision\n",
      "Robotics\n",
      "Speech Processing\n",
      "Neural Language Processing\n"
     ]
    }
   ],
   "source": [
    "subfieldsInAI.subfields()"
   ]
  },
  {
   "cell_type": "code",
   "execution_count": 11,
   "id": "0a787b81-20a0-4731-8b7b-deea31bc02fa",
   "metadata": {},
   "outputs": [],
   "source": [
    "class OddEven():\n",
    "    def OddEven():\n",
    "        num=int(input(\"Enter the Number:\"))\n",
    "        if((num%2==0)):\n",
    "            print(\"The Given Number is Even\")\n",
    "        else:\n",
    "            print(\"The Given Number is Odd\")"
   ]
  },
  {
   "cell_type": "code",
   "execution_count": 12,
   "id": "e1b1fc45-af99-4912-b53b-c9d2c85b7da1",
   "metadata": {},
   "outputs": [
    {
     "name": "stdin",
     "output_type": "stream",
     "text": [
      "Enter the Number: 52452\n"
     ]
    },
    {
     "name": "stdout",
     "output_type": "stream",
     "text": [
      "The Given Number is Even\n"
     ]
    }
   ],
   "source": [
    "OddEven.OddEven()"
   ]
  },
  {
   "cell_type": "code",
   "execution_count": 48,
   "id": "9bc59f33-e8e6-4d1c-8c7c-3783227d4d82",
   "metadata": {},
   "outputs": [],
   "source": [
    "class ElegiblityForMarriage():\n",
    "    def Elegible():\n",
    "        Name=input(\"Enter the Name:\")\n",
    "        Gender=input(\"Ente the Gender:\")\n",
    "        Age=int(input(\"Enter the Age:\"))\n",
    "        if(Gender.lower()in(\"male\",\"m\")):\n",
    "            if(Age>=21):\n",
    "                print(\"Your are Elegible for Marriage\")\n",
    "            else:\n",
    "                print(\"Not Elegible for Marriage\")\n",
    "        elif(Gender.lower()in(\"female\",\"f\")):\n",
    "            if(Age>=18):\n",
    "                print(\"Your are Elegible for Marriage\")\n",
    "            else:\n",
    "                print(\"Not Elegible for Marriage\") \n",
    "        else:\n",
    "            print(\"Input data wrong\")\n",
    "        \n",
    "        "
   ]
  },
  {
   "cell_type": "code",
   "execution_count": 50,
   "id": "9e89f97b-bc06-421f-bdf4-8d29c708ffe4",
   "metadata": {},
   "outputs": [
    {
     "name": "stdin",
     "output_type": "stream",
     "text": [
      "Enter the Name: Arun\n",
      "Ente the Gender: Male\n",
      "Enter the Age: 20\n"
     ]
    },
    {
     "name": "stdout",
     "output_type": "stream",
     "text": [
      "Not Elegible for Marriage\n"
     ]
    }
   ],
   "source": [
    "ElegiblityForMarriage.Elegible()"
   ]
  },
  {
   "cell_type": "code",
   "execution_count": 51,
   "id": "17eda511-1b3d-42d6-a235-ac9e111d9815",
   "metadata": {},
   "outputs": [],
   "source": [
    "class FindPercent():\n",
    "    def percentage():\n",
    "        S1= 98\n",
    "        print(\"Subject1 =\",S1)\n",
    "        S2= 87\n",
    "        print(\"Subject2 =\",S2)\n",
    "        S3= 95\n",
    "        print(\"Subject3 =\",S3)\n",
    "        S4= 95\n",
    "        print(\"Subject4 =\",S4)\n",
    "        S5= 93\n",
    "        print(\"Subject5 =\",S5)\n",
    "        add=S1+S2+S3+S4+S5\n",
    "        print(\"Total Amount:\",add)\n",
    "        per=add/5\n",
    "        print(\"Percentage:\",per)"
   ]
  },
  {
   "cell_type": "code",
   "execution_count": 52,
   "id": "b62fa553-3fd4-4a55-942f-3bccf8f3f916",
   "metadata": {},
   "outputs": [
    {
     "name": "stdout",
     "output_type": "stream",
     "text": [
      "Subject1 = 98\n",
      "Subject2 = 87\n",
      "Subject3 = 95\n",
      "Subject4 = 95\n",
      "Subject5 = 93\n",
      "Total Amount: 468\n",
      "Percentage: 93.6\n"
     ]
    }
   ],
   "source": [
    "FindPercent.percentage()"
   ]
  },
  {
   "cell_type": "code",
   "execution_count": 53,
   "id": "0682a804-8928-42de-8ded-ce6247cae48a",
   "metadata": {},
   "outputs": [],
   "source": [
    "class triangle():\n",
    "    def triangle():\n",
    "        Height=32\n",
    "        print(\"Height:\",Height)\n",
    "        Breadth=34\n",
    "        print(\"Breadth:\",Breadth)\n",
    "        print(\"Area formula: (Height*Breadth)/2\")\n",
    "        print(\"Area Triangle:\",(Height*Breadth)/2)\n",
    "        H1=2\n",
    "        print(\"Height1:\",H1)\n",
    "        H2=4\n",
    "        print(\"Height2:\",H2)\n",
    "        Br=4\n",
    "        print(\"Breadth:\",Br)\n",
    "        print(\"Perimeter formula: Height1+Height2+Breadth\")\n",
    "        x=H1+H2+Br\n",
    "        print(\"Perimeter of Triangle:\",x)"
   ]
  },
  {
   "cell_type": "code",
   "execution_count": 54,
   "id": "5694677d-54d4-414f-9769-6cfb1f68b0cf",
   "metadata": {},
   "outputs": [
    {
     "name": "stdout",
     "output_type": "stream",
     "text": [
      "Height: 32\n",
      "Breadth: 34\n",
      "Area formula: (Height*Breadth)/2\n",
      "Area Triangle: 544.0\n",
      "Height1: 2\n",
      "Height2: 4\n",
      "Breadth: 4\n",
      "Perimeter formula: Height1+Height2+Breadth\n",
      "Perimeter of Triangle: 10\n"
     ]
    }
   ],
   "source": [
    "triangle.triangle()"
   ]
  },
  {
   "cell_type": "code",
   "execution_count": null,
   "id": "ef4af1d9-b07f-469b-9b34-8437a25b9a37",
   "metadata": {},
   "outputs": [],
   "source": []
  }
 ],
 "metadata": {
  "kernelspec": {
   "display_name": "Python 3 (ipykernel)",
   "language": "python",
   "name": "python3"
  },
  "language_info": {
   "codemirror_mode": {
    "name": "ipython",
    "version": 3
   },
   "file_extension": ".py",
   "mimetype": "text/x-python",
   "name": "python",
   "nbconvert_exporter": "python",
   "pygments_lexer": "ipython3",
   "version": "3.12.4"
  }
 },
 "nbformat": 4,
 "nbformat_minor": 5
}
