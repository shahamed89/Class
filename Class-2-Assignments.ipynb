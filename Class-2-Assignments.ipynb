{
 "cells": [
  {
   "cell_type": "code",
   "execution_count": 2,
   "id": "a5792282-041a-4ade-9488-c269583e217d",
   "metadata": {},
   "outputs": [],
   "source": [
    "from ClassAssignment2 import assginment2"
   ]
  },
  {
   "cell_type": "code",
   "execution_count": 4,
   "id": "e8e402cc-1eaf-47c9-99d1-911d0c80044e",
   "metadata": {},
   "outputs": [
    {
     "name": "stdout",
     "output_type": "stream",
     "text": [
      "Sub-fields in AI are:\n",
      "Machine Learning\n",
      "Neural Network\n",
      "Vision\n",
      "Robotics\n",
      "Speech Processing\n",
      "Neural Language Processing\n"
     ]
    }
   ],
   "source": [
    "assginment2.subfields()"
   ]
  },
  {
   "cell_type": "code",
   "execution_count": 6,
   "id": "eda0ea19-183f-4e12-8903-5799c18be327",
   "metadata": {},
   "outputs": [
    {
     "name": "stdin",
     "output_type": "stream",
     "text": [
      "Enter the Number: 78957\n"
     ]
    },
    {
     "name": "stdout",
     "output_type": "stream",
     "text": [
      "The Given Number is Odd\n"
     ]
    }
   ],
   "source": [
    "assginment2.OddEven()"
   ]
  },
  {
   "cell_type": "code",
   "execution_count": 7,
   "id": "d594722d-a6f7-4d43-bb44-e17499d5c6f7",
   "metadata": {},
   "outputs": [
    {
     "name": "stdin",
     "output_type": "stream",
     "text": [
      "Enter the Name: Arun\n",
      "Ente the Gender: Male\n",
      "Enter the Age: 20\n"
     ]
    },
    {
     "name": "stdout",
     "output_type": "stream",
     "text": [
      "Not Elegible for Marriage\n"
     ]
    }
   ],
   "source": [
    "assginment2.Elegible()"
   ]
  },
  {
   "cell_type": "code",
   "execution_count": 8,
   "id": "33958dda-ad9c-4971-9537-4290988323e9",
   "metadata": {},
   "outputs": [
    {
     "name": "stdout",
     "output_type": "stream",
     "text": [
      "Subject1 = 98\n",
      "Subject2 = 87\n",
      "Subject3 = 95\n",
      "Subject4 = 95\n",
      "Subject5 = 93\n",
      "Total Amount: 468\n",
      "Percentage: 93.6\n"
     ]
    }
   ],
   "source": [
    "assginment2.percentage()"
   ]
  },
  {
   "cell_type": "code",
   "execution_count": 9,
   "id": "b0e4d1a7-fe0e-4c2a-baed-7a2f707f91d4",
   "metadata": {},
   "outputs": [
    {
     "name": "stdout",
     "output_type": "stream",
     "text": [
      "Height: 32\n",
      "Breadth: 34\n",
      "Area formula: (Height*Breadth)/2\n",
      "Area Triangle: 544.0\n",
      "Height1: 2\n",
      "Height2: 4\n",
      "Breadth: 4\n",
      "Perimeter formula: Height1+Height2+Breadth\n",
      "Perimeter of Triangle: 10\n"
     ]
    }
   ],
   "source": [
    "assginment2.triangle()"
   ]
  },
  {
   "cell_type": "code",
   "execution_count": null,
   "id": "c9c9f55b-0c1e-473c-97cf-e7480774d0ee",
   "metadata": {},
   "outputs": [],
   "source": []
  }
 ],
 "metadata": {
  "kernelspec": {
   "display_name": "Python 3 (ipykernel)",
   "language": "python",
   "name": "python3"
  },
  "language_info": {
   "codemirror_mode": {
    "name": "ipython",
    "version": 3
   },
   "file_extension": ".py",
   "mimetype": "text/x-python",
   "name": "python",
   "nbconvert_exporter": "python",
   "pygments_lexer": "ipython3",
   "version": "3.12.4"
  }
 },
 "nbformat": 4,
 "nbformat_minor": 5
}
